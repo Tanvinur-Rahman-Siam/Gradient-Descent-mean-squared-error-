{
  "nbformat": 4,
  "nbformat_minor": 0,
  "metadata": {
    "colab": {
      "name": "Gradient Descent (mean squared error).ipynb",
      "provenance": []
    },
    "kernelspec": {
      "name": "python3",
      "display_name": "Python 3"
    },
    "language_info": {
      "name": "python"
    }
  },
  "cells": [
    {
      "cell_type": "code",
      "execution_count": 3,
      "metadata": {
        "colab": {
          "base_uri": "https://localhost:8080/"
        },
        "id": "lTk_QUMNpFYG",
        "outputId": "f8d9a5ac-1be0-4980-a499-6c1cb1c2a85b"
      },
      "outputs": [
        {
          "output_type": "stream",
          "name": "stdout",
          "text": [
            "m: -78.01 b: -22.01 i: 0 cost: 139.0\n",
            "m: -2004.3000000000004 b: -556.1 i: 1 cost: 84435.6018\n",
            "m: -49513.51000000001 b: -13716.11 i: 2 cost: 51354906.58000002\n",
            "m: -1221185.4000000001 b: -338251.4 i: 3 cost: 31234556516.32981\n",
            "m: -30116850.610000003 b: -8341888.610000002 i: 4 cost: 18997154323895.09\n",
            "m: -742738973.7000002 b: -205726791.50000003 i: 5 cost: 1.1554249713969102e+16\n",
            "m: -18317357222.110004 b: -5073614238.710002 i: 6 cost: 7.027404424670562e+18\n",
            "m: -451740901618.8001 b: -125124986070.80003 i: 7 cost: 4.274134121115664e+21\n",
            "m: -11140790653735.215 b: -3085820367947.211 i: 8 cost: 2.5995689704622156e+24\n",
            "m: -274753107243671.22 b: -76102205026274.94 i: 9 cost: 1.5810825399240604e+27\n"
          ]
        }
      ],
      "source": [
        "# For using array, import numpy\n",
        "import numpy as np\n",
        "\n",
        "# For making or defining constructor or method in python,\n",
        "# \"def\" is used, full form is 'define'.\n",
        "# Same like java, we will be passing some parameters,\n",
        "# example: def name(parameters):\n",
        "# Note that, we will be using \":\" colon sign \n",
        "# after declaring constructor or method in python.\n",
        "def grad_des (a, b): \n",
        "\n",
        "    m_present = 0\n",
        "    c_present = 0\n",
        "    n = len(a)      # \"len(a)\" is for length of \"a\" array.\n",
        "    learning_rate = 0.01\n",
        "\n",
        "    # In case of \"for\" loop\n",
        "    # format is, for counter in range (stop_point):\n",
        "    # another format is, \n",
        "    # for counter in range (start_point, stop_point[,step]):\n",
        "    # after using for loop, use \":\" colon sign.\n",
        "    for i in range (10): \n",
        "        y_predicted = m_present * a + c_present   # y = mx + c ;linear equation\n",
        "        \n",
        "        # CostFunction, formula is,\n",
        "        # costfunction = (1/n) * sum ((y - y_predicted)^2)\n",
        "        cost = (1/n) * sum((b - y_predicted)**2)  \n",
        "        \n",
        "        # Another way of writing the above cost function is,\n",
        "        # cost = (1/n) * sum ([val**2 for val in y - y_predicted])\n",
        "        \n",
        "        m_diff = - (2/n) * sum(a * (b - y_predicted) )  # For differentiation of \"m\".\n",
        "        c_diff = - (2/n) * sum(b - y_predicted)  # For differentiation of \"c\".\n",
        "\n",
        "        # m_new = m_old - learning_rate + differentiation_of_m\n",
        "        m_present = m_present - learning_rate + m_diff\n",
        "\n",
        "        # c_new = c_old - learning_rate + differentiation_of_c\n",
        "        c_present = c_present - learning_rate + c_diff\n",
        "\n",
        "        # print ('String that will shown: {}'.format(variable_used))\n",
        "        print('m: {} b: {} i: {} cost: {}'.format(m_present, c_present, i, cost))\n",
        "\n",
        "# In a 1D array, the ith value (counting from zero) can be\n",
        "# accessed by specifying the desired index in square brackets, i.e.\n",
        "# third braces (brackets).\n",
        "x = np.array([1, 2, 3, 4, 5])\n",
        "y = np.array([5, 8, 11, 14, 17])  # We are taking, \"y = 3x + 2\".\n",
        "\n",
        "# We are calling our constructor and passing\n",
        "# (x, y) to def grad_des(a, b)\n",
        "grad_des(x, y) "
      ]
    }
  ]
}